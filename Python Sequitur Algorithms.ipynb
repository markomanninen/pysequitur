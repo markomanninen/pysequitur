{
 "cells": [
  {
   "cell_type": "markdown",
   "metadata": {},
   "source": [
    "# Python Sequitur (Nevill-Manning) algorithm"
   ]
  },
  {
   "cell_type": "markdown",
   "metadata": {},
   "source": [
    "For the algorithm reference see:\n",
    "\n",
    "1. http://arxiv.org/abs/cs/9709102\n",
    "2. https://en.wikipedia.org/wiki/Sequitur_algorithm\n",
    "3. http://www.sequitur.info/\n",
    "\n",
    "I'm testing the pysequitur library against the web interface provided by sequitur.info.\n",
    "\n",
    "## Background\n",
    "\n",
    "Main reason to make a new library is that I needed to have the Sequitur algorithm to work with \"any\" object pairs (digram), not just textual input. This is best achieved by working with list indexes rather than rudimentary text replacements on the algorithm.\n",
    "\n",
    "Other reason was to test efficiency of two different approaches for the algorithm:\n",
    "\n",
    "1. array slicing method\n",
    "2. digram storage method\n",
    "\n",
    "I was quessing array slicer is an easier way, but searching digrams from existing rules might take longer time and concequently have a downside effect to the performance of the algorithm. Thus the second way, \"digram storage method\" was implemented. Trivial tests show that the latter is a faster implementation indeed.\n",
    "\n",
    "Other Python libraries for the algorithm can be found from GitHub:\n",
    "\n",
    "1. https://github.com/mspandit/sequitur-python\n",
    "2. https://github.com/raysaagar/parallel-sequitur\n",
    "\n",
    "The latter provides both serial and parallel versions of the algorithm. Unexpectively the parallel version is slower on small data sets on my tests. Both algos work slower than the \"digram storage method\". I found _sequitur-python_ just recently so performance and features of that library are yet to be tested.\n",
    "\n",
    "\n",
    "## Array slicing method\n",
    "\n",
    "I'm not going to the deep details of the source code on these two implementations. Basicly on array slicing method every rule is a plain list of sequence items. So finding and comparing digrams needs to loop over all rules and then slice root sequence to parts, which are two items long. Comparison is thus made like this:\n",
    "\n",
    "<pre><code class=\"python\">rule[i:i+2] == digram</code></pre>\n",
    "\n",
    "This is one of the most resource eating part on the algorithm. Of cource the rule utility is another similar loop over loop over loop place which takes most of the time on the algo:\n",
    "\n",
    "<pre><code class=\"python\">for rule1 in self:\n",
    "    for rule2 in self:\n",
    "        l = len(rule2)\n",
    "        ind = 0\n",
    "        while ind < l:\n",
    "            c = rule2[ind+1:]\n",
    "            del rule2[ind:]\n",
    "            rule2 += rule1 + c\n",
    "            ind += 1\n",
    "</code></pre>\n",
    "\n",
    "## Digram storage method\n",
    "\n",
    "On the digram storage method array slicing is eliminated by storing every item with the previous item. In this case digrams are stored on memory, which causes approximately twice the memory consumption but then, at least trice the performance increase. On Digram storage method comparison can be done with more efficient way:\n",
    "\n",
    "<pre><code class=\"python\">digram in rule</code></pre>\n",
    "\n",
    "Also the rule utility is behaving a bit different way after this data structure change. Still I coudn't find a way to eliminate loops over loops, but rule modification method seems to be more efficient, because there is no need to delete and reinstantiate the list of rule items. Simplified it looks like this:\n",
    "\n",
    "<pre><code class=\"python\">for rule1 in self:\n",
    "    for rule2 in self:\n",
    "        l = len(rule2)\n",
    "        ind = 0\n",
    "        while ind < l:\n",
    "            self[ind:ind] = rule[:]\n",
    "</code></pre>\n",
    "\n",
    "All code with comments can be found from GitHub directory: https://github.com/markomanninen/pysequitur/blob/master/pysequitur/main.py\n",
    "\n",
    "## Using library\n",
    "\n",
    "Library offers these two implementations of the algorithm with dedicated classes:\n",
    "\n",
    "- Sequencer\n",
    "- Sequencer2\n",
    "\n",
    "For nice output print_grammar function is provided. Five different constants can be used to alter output and representation of the classes used on the library's print utility:\n",
    "\n",
    "- **RULE_INDEX_STR**<br/>\n",
    "  How to represent rule indexes on output, default is \"^%s\" where %s is replaced with a rule index number\n",
    "- **SEQUENCE_KEY**<br/>\n",
    "  Define special key to be used to mark the main root sequence, default is \"S\"\n",
    "- **ARROW**<br/>\n",
    "  Special character to be used as a separator between rule indices and rules, default \"→\"\n",
    "- **NEWLINE_REPLACEMENT**<br/>\n",
    "  What to do with newlines on output, default replacement is \"↵\"\n",
    "- **SPACE_REPLACEMENT**<br/>\n",
    "  What to do with space characters on output, default replacement is \"_\"\n",
    "\n",
    "## Comparison\n",
    "\n",
    "Let's compare these two different sequencers and print_grammar utility with an example children nursery rhyme:"
   ]
  },
  {
   "cell_type": "code",
   "execution_count": 1,
   "metadata": {
    "collapsed": false
   },
   "outputs": [],
   "source": [
    "from pysequitur import Sequencer, Sequencer2, print_grammar\n",
    "\n",
    "seq = \"\"\"pease porridge hot,\n",
    "pease porridge cold,\n",
    "pease porridge in the pot,\n",
    "nine days old.\n",
    "\n",
    "some like it hot,\n",
    "some like it cold,\n",
    "some like it in the pot,\n",
    "nine days old.\"\"\""
   ]
  },
  {
   "cell_type": "code",
   "execution_count": 2,
   "metadata": {
    "collapsed": false
   },
   "outputs": [
    {
     "name": "stdout",
     "output_type": "stream",
     "text": [
      "[[[None, ^3], [^3, ^9], [^9, ^5], [^5, ^11], [^11, ^5], [^5, ^7], [^7, '\\n'], ['\\n', '\\n'], ['\\n', ^10], [^10, ^9], [^9, ^12], [^12, ^11], [^11, ^12], [^12, ^7]], [['e', ' ']], [[',', '\\n']], [['p', 'e'], ['e', 'a'], ['a', 's'], ['s', ^4], [^4, 'r'], ['r', 'r'], ['r', 'i'], ['i', 'd'], ['d', 'g'], ['g', ^1]], [[^1, 'p'], ['p', 'o']], [[^2, ^3]], [['i', 'n']], [[^6, ' '], [' ', 't'], ['t', 'h'], ['h', ^4], [^4, 't'], ['t', ^2], [^2, 'n'], ['n', ^6], [^6, ^1], [^1, 'd'], ['d', 'a'], ['a', 'y'], ['y', 's'], ['s', ' '], [' ', ^8], [^8, '.']], [['o', 'l'], ['l', 'd']], [['h', 'o'], ['o', 't']], [['s', 'o'], ['o', 'm'], ['m', ^1], [^1, 'l'], ['l', 'i'], ['i', 'k'], ['k', ^1], [^1, 'i'], ['i', 't'], ['t', ' ']], [['c', ^8]], [[^2, ^10]], None, None]\n"
     ]
    }
   ],
   "source": [
    "print (Sequencer(seq).get())"
   ]
  },
  {
   "cell_type": "code",
   "execution_count": 3,
   "metadata": {
    "collapsed": false
   },
   "outputs": [
    {
     "name": "stdout",
     "output_type": "stream",
     "text": [
      "[[^3, ^7, ^4, ^5, ^4, ^11, '\\n', '\\n', ^8, ^7, ^9, ^5, ^9, ^11], ['e', ' '], ['i', 'n'], ['p', 'e', 'a', 's', ^16, 'r', 'r', 'i', 'd', 'g', ^1], [^17, ^3], ['c', ^6], ['o', 'l', 'd'], ['h', 'o', 't'], ['s', 'o', 'm', ^1, 'l', 'i', 'k', ^1, 'i', 't', ' '], [^17, ^8], None, [^2, ' ', 't', 'h', ^16, 't', ^17, 'n', ^2, ^1, 'd', 'a', 'y', 's', ' ', ^6, '.'], None, None, None, None, [^1, 'p', 'o'], [',', '\\n'], None, None, None, None, None, None, None, None, None, None, None, None]\n"
     ]
    }
   ],
   "source": [
    "print (Sequencer2(seq).get())"
   ]
  },
  {
   "cell_type": "markdown",
   "metadata": {},
   "source": [
    "As we can notice, data structures are different, latter is somewhat easier to understand, more straightforward. Now let's compare grammar generated by sequencers:"
   ]
  },
  {
   "cell_type": "code",
   "execution_count": 4,
   "metadata": {
    "collapsed": false
   },
   "outputs": [
    {
     "name": "stdout",
     "output_type": "stream",
     "text": [
      "S → ^3^9^5^11^5^7↵↵^10^9^12^11^12^7\n",
      "1 → e_\n",
      "2 → ,↵\n",
      "3 → peas^4rridg^1\n",
      "4 → ^1po\n",
      "5 → ^2^3\n",
      "6 → in\n",
      "7 → ^6_th^4t^2n^6^1days ^8.\n",
      "8 → old\n",
      "9 → hot\n",
      "10 → som^1lik^1it \n",
      "11 → c^8\n",
      "12 → ^2^10\n"
     ]
    }
   ],
   "source": [
    "print_grammar(Sequencer(seq))"
   ]
  },
  {
   "cell_type": "code",
   "execution_count": 5,
   "metadata": {
    "collapsed": false
   },
   "outputs": [
    {
     "name": "stdout",
     "output_type": "stream",
     "text": [
      "S → ^3^7^4^5^4^11↵↵^8^7^9^5^9^11\n",
      "1 → e_\n",
      "2 → in\n",
      "3 → peas^16rridg^1\n",
      "4 → ^17^3\n",
      "5 → c^6\n",
      "6 → old\n",
      "7 → hot\n",
      "8 → som^1lik^1it_\n",
      "9 → ^17^8\n",
      "11 → ^2_th^16t^17n^2^1days_^6.\n",
      "16 → ^1po\n",
      "17 → ,↵\n"
     ]
    }
   ],
   "source": [
    "print_grammar(Sequencer2(seq))"
   ]
  },
  {
   "cell_type": "markdown",
   "metadata": {},
   "source": [
    "They should give similar output, just index numbers should be different. Then let's make some trivial efficiency check with __%%timeit__ notebook magics:"
   ]
  },
  {
   "cell_type": "code",
   "execution_count": 6,
   "metadata": {
    "collapsed": false
   },
   "outputs": [
    {
     "name": "stdout",
     "output_type": "stream",
     "text": [
      "100 loops, best of 3: 3.82 ms per loop\n"
     ]
    }
   ],
   "source": [
    "%%timeit\n",
    "Sequencer(seq)"
   ]
  },
  {
   "cell_type": "code",
   "execution_count": 7,
   "metadata": {
    "collapsed": false
   },
   "outputs": [
    {
     "name": "stdout",
     "output_type": "stream",
     "text": [
      "100 loops, best of 3: 9.82 ms per loop\n"
     ]
    }
   ],
   "source": [
    "%%timeit\n",
    "Sequencer2(seq)"
   ]
  },
  {
   "cell_type": "markdown",
   "metadata": {},
   "source": [
    "Sequencer 2 takes more than twice longer to create the grammar. Before trying with longer text samples, let's try a trivial tester, which compares generated sequence to the expected output. If they don't match, function will output error.\n",
    "\n",
    "### Test output"
   ]
  },
  {
   "cell_type": "code",
   "execution_count": 8,
   "metadata": {
    "collapsed": false
   },
   "outputs": [],
   "source": [
    "def test(sequence, expect, sequencer_class):\n",
    "    \"\"\" Test sequence if result is as expected. This is a very trivial tester. \"\"\"\n",
    "    s = sequencer_class()\n",
    "    for c in sequence:\n",
    "        s.stream(c)\n",
    "    try:\n",
    "        assert str(s) == expect\n",
    "        print (\"Test ok!\")\n",
    "    except AssertionError:\n",
    "        print ('Assertion error!', 'Sequence \"%s\" gave: \"%s\". Expected: \"%s\"' % (sequence, str(s), expect))"
   ]
  },
  {
   "cell_type": "code",
   "execution_count": 9,
   "metadata": {
    "collapsed": false
   },
   "outputs": [
    {
     "name": "stdout",
     "output_type": "stream",
     "text": [
      "Test ok!\n"
     ]
    }
   ],
   "source": [
    "test('abcdbcabcd', '^3^1^3', Sequencer)"
   ]
  },
  {
   "cell_type": "code",
   "execution_count": 10,
   "metadata": {
    "collapsed": false
   },
   "outputs": [
    {
     "name": "stdout",
     "output_type": "stream",
     "text": [
      "Assertion error! Sequence \"abcdbcabcdbc\" gave: \"^2^2\". Expected: \"^3^1^3\"\n"
     ]
    }
   ],
   "source": [
    "test('abcdbcabcdbc', '^3^1^3', Sequencer)"
   ]
  },
  {
   "cell_type": "markdown",
   "metadata": {},
   "source": [
    "### Longer text sample\n",
    "\n",
    "Now it is time to compare longer text with sequencers. I'm using samples found from: http://www.sequitur.info/ to double check everything works as expeted. First import Genesis text from file:"
   ]
  },
  {
   "cell_type": "code",
   "execution_count": 11,
   "metadata": {
    "collapsed": false
   },
   "outputs": [],
   "source": [
    "input_string = open('genesis1.txt', 'r').read()"
   ]
  },
  {
   "cell_type": "markdown",
   "metadata": {},
   "source": [
    "Then processing with two different sequencers:"
   ]
  },
  {
   "cell_type": "code",
   "execution_count": 12,
   "metadata": {
    "collapsed": false
   },
   "outputs": [
    {
     "name": "stdout",
     "output_type": "stream",
     "text": [
      "1 loops, best of 3: 364 ms per loop\n"
     ]
    }
   ],
   "source": [
    "%%timeit\n",
    "Sequencer(input_string)"
   ]
  },
  {
   "cell_type": "code",
   "execution_count": 13,
   "metadata": {
    "collapsed": false
   },
   "outputs": [
    {
     "name": "stdout",
     "output_type": "stream",
     "text": [
      "1 loops, best of 3: 1.13 s per loop\n"
     ]
    }
   ],
   "source": [
    "%%timeit\n",
    "Sequencer2(input_string)"
   ]
  },
  {
   "cell_type": "markdown",
   "metadata": {},
   "source": [
    "Result is that \"digram storage method\" seems to be trice faster than simpler \"array slicing method\".\n",
    "\n",
    "Other long text sample (\"I am Sam\" poem) looks like this when converted to a grammar:"
   ]
  },
  {
   "cell_type": "code",
   "execution_count": 14,
   "metadata": {
    "collapsed": false
   },
   "outputs": [
    {
     "name": "stdout",
     "output_type": "stream",
     "text": [
      "S → ^3↵^3^2_^5↵^6^6!^14t^8^12D^9^19^33^12^32^36.^14^52^37^22^84^28?^12^29^27^28^31^29^53^33^34^36^37^43^41^39↵^42^41^55^43^49^22^42^49↵^112↵^53^79^12^61^59b^64^61↵^67^64↵^104b^71^67^71^66^106^171^74^75^74^76^77^141^79^156?_^123^60^90^60^83_^83↵^149^58^230^105^99^88_^178^87^90^12^96^214^96^59^98^60^18^69^103^135^103^104^132^193^105^165^107^136^51^194^55^107^106^113m^108^110^142^117_^112^176^34^52^117^150^120^120^177↵^128^60^130^128^190^2^119L^134^189^135^115^169^139^186^137i^138f^65^147^142^153^213^145^192^106^174^143^76^175^150^12^216^35^48^151^60^149_^154^152^182^115^154^161^87^154^31^156^157^87^160^161^115^160^191^170^128^87^163^102^115^166^95^165^217^115^200^168^163^106^170^169^171^170^172^174^175^176^181^201^244^60^113^69^22^110^199^177^87^180^179^178^31^180^181^182^87^187^60↵^7^186^115^187^188^185^140^185^180^143^160^143^128^191^190^193^189^165^192^136^175^194^143^233^175^142^195^75^195^203^239^196↵^197ss↵^30^198^196^46^199↵^201^82^236O^210^205^206^119^202^152^203^207^206^114^207^89^7^205^208↵^173^209f^210^140^212e^87^224^129^211^214↵^216^215^17^209_^240!^237^110^217^13^222^192^220^222_^180..^235^160^226^227^229^128^226^131^102^229^131^228^95T^27^230^231^232^232^200^94^189↵S^9^234^169^235^172^235^233^235^111^235^47^114^18^48^21^236ay^237^140^238^203H^239^181^7^240_^241^91^244^243^243^245\n",
      "1 → am\n",
      "2 → S^1\n",
      "3 → ^5^4\n",
      "\n",
      "4 → _^2\n",
      "5 → ^7^1\n",
      "6 → ↵T^8\n",
      "7 → I_\n",
      "8 → ^10t^54\n",
      "9 → o_\n",
      "10 → ha\n",
      "11 → _^91\n",
      "12 → ↵↵\n",
      "13 → -I-^1\n",
      "14 → ^44↵\n",
      "15 → ^109^26\n",
      "16 → ou\n",
      "17 → ^197gs^114^198\n",
      "18 → d_\n",
      "19 → ^56^215\n",
      "20 → ^23m\n",
      "21 → re\n",
      "22 → _↵\n",
      "23 → t^27\n",
      "24 → ^16^100\n",
      "25 → _^23\n",
      "26 → ^69^11\n",
      "27 → he\n",
      "28 → ^21^50^25^21\n",
      "29 → ^73^26^25m^22\n",
      "30 → an\n",
      "31 → .↵\n",
      "32 → ^15_\n",
      "33 → ↵^17\n",
      "34 → ^31^32\n",
      "35 → n_\n",
      "36 → ^20^87^118\n",
      "37 → ^12^39\n",
      "38 → a_\n",
      "39 → ^57^19^20\n",
      "40 → th\n",
      "41 → ^45^60\n",
      "42 → ^63m\n",
      "43 → ^59h\n",
      "44 → ↵^15\n",
      "45 → ^16^94\n",
      "46 → ^48m\n",
      "47 → ^27^21\n",
      "48 → ^40e\n",
      "49 → ^45^51\n",
      "50 → _or\n",
      "51 → ^34^46\n",
      "52 → ^17.\n",
      "53 → ^76^34\n",
      "54 → ^4^13\n",
      "55 → ^44_^46\n",
      "56 → y^16\n",
      "57 → W^24\n",
      "58 → _^48\n",
      "59 → ↵^66\n",
      "60 → ?↵\n",
      "61 → ^80^72\n",
      "62 → ot\n",
      "63 → ^92^138\n",
      "64 → ^65^60\n",
      "65 → ox\n",
      "66 → i^124\n",
      "67 → ^63f\n",
      "68 → N^108\n",
      "69 → n^62\n",
      "70 → ^31^68\n",
      "71 → ^65^70\n",
      "72 → ^78^82\n",
      "73 → ^86^24\n",
      "74 → ^77^72 \n",
      "75 → ^47^50^58^21\n",
      "76 → ^30^116\n",
      "77 → ^31^73^69\n",
      "78 → _^218\n",
      "79 → ^52^55,^54^31\n",
      "80 → ^57^56\n",
      "81 → at\n",
      "82 → ^58m\n",
      "83 → E^81^82!\n",
      "84 → He\n",
      "85 → ar\n",
      "86 → ^7w\n",
      "87 → ,↵\n",
      "88 → ^24^69\n",
      "89 → y_\n",
      "90 → ^66^102\n",
      "91 → like\n",
      "92 → wi\n",
      "93 → Y^16 \n",
      "94 → se\n",
      "95 → e^31\n",
      "96 → ^93^204^89^110\n",
      "97 → ^21e\n",
      "98 → t^97\n",
      "99 → ^86o\n",
      "100 → l^18\n",
      "101 → c^88\n",
      "102 → c^85\n",
      "103 → ^107^98^31\n",
      "104 → ^68^66\n",
      "105 → ^95↵\n",
      "106 → h^45\n",
      "107 → _^66\n",
      "108 → ^62_\n",
      "109 → ^7^146\n",
      "110 → ^91^82\n",
      "111 → ^42^45\n",
      "112 → ^75^51\n",
      "113 → ↵^109\n",
      "114 → _^30\n",
      "115 → ,_\n",
      "116 → yw^47\n",
      "117 → ^113^148\n",
      "118 → ^2^13\n",
      "119 → !_\n",
      "120 → ↵^121^119^121!\n",
      "121 → A_^126\n",
      "122 → ^24^56\n",
      "123 → C^122\n",
      "124 → ^35^38\n",
      "125 → in\n",
      "126 → ^129^159\n",
      "127 → _^38\n",
      "128 → ^183^126\n",
      "129 → tr\n",
      "130 → ↵^68\n",
      "131 → ^125^127\n",
      "132 → ^102^119\n",
      "133 → e!\n",
      "134 → et m^231b\n",
      "135 → ^219^185^101\n",
      "136 → b^65\n",
      "137 → ^115w\n",
      "138 → ^40^127\n",
      "139 → ^31^7\n",
      "140 → ^92^144\n",
      "141 → ^78_\n",
      "142 → _^111\n",
      "143 → ^147_\n",
      "144 → ll \n",
      "145 → ^69^141^46\n",
      "146 → d^9\n",
      "147 → ^188^145\n",
      "148 → ^26^82\n",
      "149 → ^84^21\n",
      "150 → ^115^118^31\n",
      "151 → _^164\n",
      "152 → !↵\n",
      "153 → ↵^86\n",
      "154 → ^158^151\n",
      "155 → ^115c\n",
      "156 → ↵^80\n",
      "157 → ^155^122\n",
      "158 → ^125^58\n",
      "159 → a^125\n",
      "160 → ^162r^159\n",
      "161 → ^179^155^88\n",
      "162 → ^158_\n",
      "163 → ^68^131\n",
      "164 → d^85k\n",
      "165 → ^32^46\n",
      "166 → ^163^228\n",
      "167 → Sa\n",
      "168 → ^94^95\n",
      "169 → ^131^136\n",
      "170 → ^225^68\n",
      "171 → ^70^111\n",
      "172 → ^67^65\n",
      "173 → ^167m\n",
      "174 → ^143^75\n",
      "175 → ^139^146^148\n",
      "176 → ^114^116\n",
      "177 → ↵^123^137^122\n",
      "178 → ^87^101\n",
      "179 → ^60^153^88\n",
      "180 → ^63g^184\n",
      "181 → ^152↵\n",
      "182 → ^80^157\n",
      "183 → o^124\n",
      "184 → o^81\n",
      "185 → ^69^115\n",
      "186 → ^101^137^88\n",
      "187 → ^183^220\n",
      "188 → ^139^140\n",
      "189 → ^133↵\n",
      "190 → ^119^166^133^130^131^132\n",
      "191 → ^70^227\n",
      "192 → _^131\n",
      "193 → ^93^212\n",
      "194 → _^172\n",
      "195 → ^175_\n",
      "196 → ^181^32\n",
      "197 → g^97^35eg\n",
      "198 → ^18^10m\n",
      "199 → ^245^31\n",
      "200 → ^56_\n",
      "201 → ^93^146^26\n",
      "202 → Tr^211\n",
      "203 → AN\n",
      "204 → ma\n",
      "205 → sa\n",
      "206 → ^208^202\n",
      "207 → ^18^200^204\n",
      "208 → y^31\n",
      "209 → ^152I\n",
      "210 → _^200\n",
      "211 → ^89^46\n",
      "212 → l^134\n",
      "213 → i^144\n",
      "214 → ^31^93^140^168\n",
      "215 → ^11_\n",
      "216 → ^167y^209\n",
      "217 → ^115^173\n",
      "218 → e^81\n",
      "219 → ^99u^100\n",
      "220 → b^184\n",
      "221 → ^218^82\n",
      "222 → ^152^223^219^221\n",
      "223 → An^18\n",
      "224 → ^86^213\n",
      "225 → ._\n",
      "226 → ^31^223\n",
      "227 → ^162^164\n",
      "228 → ^129e\n",
      "229 → ^225^223\n",
      "230 → ^89^85\n",
      "231 → e_\n",
      "232 → ^241goodm \n",
      "233 → ^131^106\n",
      "234 → ^224^238\n",
      "235 → ^226^234\n",
      "236 → ^31S\n",
      "237 → ^119^7\n",
      "238 → ^221_\n",
      "239 → YWHERE\n",
      "240 → do\n",
      "241 → s^9\n",
      "243 → ^152T^10nk ^56\n",
      "244 → ^22^17\n",
      "245 → ^87^173^13\n"
     ]
    }
   ],
   "source": [
    "input_string = open('IamSam.txt', 'r').read()\n",
    "s = Sequencer(input_string)\n",
    "print_grammar(s)"
   ]
  },
  {
   "cell_type": "markdown",
   "metadata": {},
   "source": [
    "### Stream sequence\n",
    "\n",
    "So far we have provided a input sequence as a single pass as a class constructor argument. Let's assume, that sequencer is used to find out repeating hierarchal structures from a constant stream of a numeric input data. On the next code block I will emulate constant data flow within a while loop. A small delay is used on a loop to create an effect of a continuous stream of timely data.\n",
    "\n",
    "To differentiate rule indexes and numeric data I will change RULE_INDEX_STR constant to the more approriate one so that rule index numbers will be wrapped with curly brackets. Also because index numbers in Python are in a form of integer types, we need to make sure that Rule Indices and input values are not mixed on the process. Class Int is presented here for that reason.\n",
    "\n",
    "_Use Kernel->Interrupt from the main menu to stop while loop in case of infinite recursion!_"
   ]
  },
  {
   "cell_type": "code",
   "execution_count": 15,
   "metadata": {
    "collapsed": false
   },
   "outputs": [
    {
     "name": "stdout",
     "output_type": "stream",
     "text": [
      "S → {5}{5}\n",
      "1 → 23\n",
      "3 → 1{1}4\n",
      "5 → {3}{1}{3}\n"
     ]
    }
   ],
   "source": [
    "import time\n",
    "from IPython.display import clear_output\n",
    "import pysequitur\n",
    "\n",
    "class Int(int):\n",
    "    def __repr__(self):\n",
    "        return str(self)\n",
    "    def __eq__(self, v):\n",
    "        return isinstance(v, Int) and int.__eq__(self, v)\n",
    "\n",
    "# reinstantiate default rule index string: ^%s with: {%s}\n",
    "pysequitur.main.RULE_INDEX_STR = \"{%s}\"\n",
    "# init sequencer\n",
    "s = Sequencer()\n",
    "# init delay, 0.5 seconds\n",
    "delay = 0.5\n",
    "# init numeric data and map them to Int type\n",
    "a = [1,2,3,4,2,3,1,2,3,4,1,2,3,4,2,3,1,2,3,4]\n",
    "a = list(map(Int, a))\n",
    "\n",
    "try:\n",
    "    l = len(a)\n",
    "    i = 0\n",
    "    while i < l:\n",
    "        s.stream(a[i])\n",
    "        print_grammar(s)\n",
    "        time.sleep(delay)\n",
    "        clear_output(wait=True)\n",
    "        i+=1\n",
    "except KeyboardInterrupt:\n",
    "    pass"
   ]
  },
  {
   "cell_type": "markdown",
   "metadata": {},
   "source": [
    "## Resolve\n",
    "\n",
    "When sequencer is used to generate (which also means same as compress the data), we can use resolve method of the Sequencer class to decode main rule back to original sequence:"
   ]
  },
  {
   "cell_type": "code",
   "execution_count": 16,
   "metadata": {
    "collapsed": false
   },
   "outputs": [
    {
     "name": "stdout",
     "output_type": "stream",
     "text": [
      "pease porridge hot,\n",
      "pease porridge cold,\n",
      "pease porridge in the pot,\n",
      "nine days old.\n",
      "\n",
      "some like it hot,\n",
      "some like it cold,\n",
      "some like it in the pot,\n",
      "nine days old.\n"
     ]
    }
   ],
   "source": [
    "input_string = open('peaseporridge.txt', 'r').read()\n",
    "s = Sequencer(input_string)\n",
    "print (''.join(s.resolve()))"
   ]
  },
  {
   "cell_type": "markdown",
   "metadata": {},
   "source": [
    "## Random sequence\n",
    "\n",
    "One more final case just to demonstrate sequencer in working is to use random letter pattern and see how it is processed by the library:"
   ]
  },
  {
   "cell_type": "code",
   "execution_count": 17,
   "metadata": {
    "collapsed": false
   },
   "outputs": [],
   "source": [
    "import time\n",
    "from random import shuffle, randint as rand\n",
    "from IPython.display import clear_output\n",
    "\n",
    "def test_random_seq(f=5, delay=0.1):\n",
    "    abc = 'abcdefghijklmnopqrstuvwyz'\n",
    "    l = len(abc)-1\n",
    "    s = ''\n",
    "    i = l*f\n",
    "    # to stop script execution on Jupyter notebook: Kernel -> Interrupt\n",
    "    try:\n",
    "        s = Sequencer(abc[rand(0, l)])\n",
    "        while i > 0:\n",
    "            i -= 1\n",
    "            s.stream(abc[rand(0, l)])\n",
    "            print ('sequence:', s)\n",
    "            print ('grammar:', s.get()[0])\n",
    "            print ('rules:', s.get()[1:])\n",
    "            print ('resolve:', s.resolve())\n",
    "            time.sleep(delay)\n",
    "            clear_output(wait=True)\n",
    "    except KeyboardInterrupt:\n",
    "        pass"
   ]
  },
  {
   "cell_type": "code",
   "execution_count": 18,
   "metadata": {
    "collapsed": false
   },
   "outputs": [
    {
     "name": "stdout",
     "output_type": "stream",
     "text": [
      "sequence: {1}{2}u{1}ffypkfcjmprw{4}dbeyb{2}qzhuijztwcowugbomedvcsa{3}mzzcwnolulpzpsz{1}jokdodmjhvl{3}wjnpctdnyucngtpniswp{4}vhckoqavykmvaica\n",
      "grammar: [[None, {1}], [{1}, {2}], [{2}, 'u'], ['u', {1}], [{1}, 'f'], ['f', 'f'], ['f', 'y'], ['y', 'p'], ['p', 'k'], ['k', 'f'], ['f', 'c'], ['c', 'j'], ['j', 'm'], ['m', 'p'], ['p', 'r'], ['r', 'w'], ['w', {4}], [{4}, 'd'], ['d', 'b'], ['b', 'e'], ['e', 'y'], ['y', 'b'], ['b', {2}], [{2}, 'q'], ['q', 'z'], ['z', 'h'], ['h', 'u'], ['u', 'i'], ['i', 'j'], ['j', 'z'], ['z', 't'], ['t', 'w'], ['w', 'c'], ['c', 'o'], ['o', 'w'], ['w', 'u'], ['u', 'g'], ['g', 'b'], ['b', 'o'], ['o', 'm'], ['m', 'e'], ['e', 'd'], ['d', 'v'], ['v', 'c'], ['c', 's'], ['s', 'a'], ['a', {3}], [{3}, 'm'], ['m', 'z'], ['z', 'z'], ['z', 'c'], ['c', 'w'], ['w', 'n'], ['n', 'o'], ['o', 'l'], ['l', 'u'], ['u', 'l'], ['l', 'p'], ['p', 'z'], ['z', 'p'], ['p', 's'], ['s', 'z'], ['z', {1}], [{1}, 'j'], ['j', 'o'], ['o', 'k'], ['k', 'd'], ['d', 'o'], ['o', 'd'], ['d', 'm'], ['m', 'j'], ['j', 'h'], ['h', 'v'], ['v', 'l'], ['l', {3}], [{3}, 'w'], ['w', 'j'], ['j', 'n'], ['n', 'p'], ['p', 'c'], ['c', 't'], ['t', 'd'], ['d', 'n'], ['n', 'y'], ['y', 'u'], ['u', 'c'], ['c', 'n'], ['n', 'g'], ['g', 't'], ['t', 'p'], ['p', 'n'], ['n', 'i'], ['i', 's'], ['s', 'w'], ['w', 'p'], ['p', {4}], [{4}, 'v'], ['v', 'h'], ['h', 'c'], ['c', 'k'], ['k', 'o'], ['o', 'q'], ['q', 'a'], ['a', 'v'], ['v', 'y'], ['y', 'k'], ['k', 'm'], ['m', 'v'], ['v', 'a'], ['a', 'i'], ['i', 'c'], ['c', 'a']]\n",
      "rules: [[['m', 'y']], [['m', 'w']], [['t', 'h']], [['w', 'y']]]\n",
      "resolve: ['m', 'y', 'm', 'w', 'u', 'm', 'y', 'f', 'f', 'y', 'p', 'k', 'f', 'c', 'j', 'm', 'p', 'r', 'w', 'w', 'y', 'd', 'b', 'e', 'y', 'b', 'm', 'w', 'q', 'z', 'h', 'u', 'i', 'j', 'z', 't', 'w', 'c', 'o', 'w', 'u', 'g', 'b', 'o', 'm', 'e', 'd', 'v', 'c', 's', 'a', 't', 'h', 'm', 'z', 'z', 'c', 'w', 'n', 'o', 'l', 'u', 'l', 'p', 'z', 'p', 's', 'z', 'm', 'y', 'j', 'o', 'k', 'd', 'o', 'd', 'm', 'j', 'h', 'v', 'l', 't', 'h', 'w', 'j', 'n', 'p', 'c', 't', 'd', 'n', 'y', 'u', 'c', 'n', 'g', 't', 'p', 'n', 'i', 's', 'w', 'p', 'w', 'y', 'v', 'h', 'c', 'k', 'o', 'q', 'a', 'v', 'y', 'k', 'm', 'v', 'a', 'i', 'c', 'a']\n"
     ]
    }
   ],
   "source": [
    "test_random_seq()"
   ]
  },
  {
   "cell_type": "markdown",
   "metadata": {},
   "source": [
    "## The [MIT](https://github.com/markomanninen/pysequitur/blob/master/LICENSE) License\n",
    "\n",
    "Copyright &copy; 2016 Marko Manninen"
   ]
  }
 ],
 "metadata": {
  "kernelspec": {
   "display_name": "Python 3",
   "language": "python",
   "name": "python3"
  },
  "language_info": {
   "codemirror_mode": {
    "name": "ipython",
    "version": 3
   },
   "file_extension": ".py",
   "mimetype": "text/x-python",
   "name": "python",
   "nbconvert_exporter": "python",
   "pygments_lexer": "ipython3",
   "version": "3.5.1"
  }
 },
 "nbformat": 4,
 "nbformat_minor": 0
}
